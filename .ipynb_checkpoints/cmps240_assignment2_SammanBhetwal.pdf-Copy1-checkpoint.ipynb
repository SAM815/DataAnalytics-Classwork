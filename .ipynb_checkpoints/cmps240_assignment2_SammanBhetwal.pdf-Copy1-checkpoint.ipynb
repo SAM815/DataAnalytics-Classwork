{
 "cells": [
  {
   "cell_type": "markdown",
   "id": "b317f63a",
   "metadata": {},
   "source": [
    "Question number 1:"
   ]
  },
  {
   "cell_type": "code",
   "execution_count": 2,
   "id": "f3f48933",
   "metadata": {},
   "outputs": [
    {
     "name": "stdout",
     "output_type": "stream",
     "text": [
      "The temperature 32F is  0.0  celsius\n"
     ]
    }
   ],
   "source": [
    "def fahr_to_celsius(temperature_fahrenheit):\n",
    "    temperature_celsius = (temperature_fahrenheit - 32) * (5/9)\n",
    "    return temperature_celsius\n",
    "print(\"The temperature 32F is \", fahr_to_celsius(32), \" celsius\")\n",
    "    "
   ]
  },
  {
   "cell_type": "markdown",
   "id": "0bcd4fac",
   "metadata": {},
   "source": [
    "Question number 2:"
   ]
  },
  {
   "cell_type": "code",
   "execution_count": 3,
   "id": "945b8d9a",
   "metadata": {},
   "outputs": [
    {
     "name": "stdout",
     "output_type": "stream",
     "text": [
      "0 degrees Celsius is   273.15  kelvin.\n"
     ]
    }
   ],
   "source": [
    "def celsius_to_kelvin(temperature_celsius):\n",
    "    temperature_kelvin = temperature_celsius + 273.15 #calculation\n",
    "    return temperature_kelvin\n",
    "\n",
    "print(\"0 degrees Celsius is  \", celsius_to_kelvin(0), \" kelvin.\")\n"
   ]
  },
  {
   "cell_type": "markdown",
   "id": "2729d489",
   "metadata": {},
   "source": [
    "Question number 3:"
   ]
  },
  {
   "cell_type": "code",
   "execution_count": 4,
   "id": "e31fa46a",
   "metadata": {},
   "outputs": [
    {
     "name": "stdout",
     "output_type": "stream",
     "text": [
      "32 degrees Fahrenheit when converted to kelvin is  273.15\n"
     ]
    }
   ],
   "source": [
    "def fahr_to_kelvin(temperature_fahrenheit):\n",
    "    temperature_celsius = fahr_to_celsius(temperature_fahrenheit) #first converts the temperature into celsius\n",
    "    temperature_kelvin = celsius_to_kelvin(temperature_celsius) #converts the temperature in celsius to kelvin\n",
    "    return temperature_kelvin\n",
    "\n",
    "print(\"32 degrees Fahrenheit when converted to kelvin is \", fahr_to_kelvin(32))\n"
   ]
  },
  {
   "cell_type": "markdown",
   "id": "657f2819",
   "metadata": {},
   "source": [
    "Question 4:"
   ]
  },
  {
   "cell_type": "markdown",
   "id": "4cf24ef6",
   "metadata": {},
   "source": [
    "The temperature_fahrenheit and temperature_kelvin variables are local varialbles. They are also the  inputs to the function.  The temperature_celsius variable, on the other hand, is a temporary intermediate value in the conversion process. The scope of these variables is limited to the fahr_to_kelvin function and they do not affect the values of any variables outside of the function.\n",
    "\n",
    "\n",
    "\n"
   ]
  }
 ],
 "metadata": {
  "kernelspec": {
   "display_name": "Python 3 (ipykernel)",
   "language": "python",
   "name": "python3"
  },
  "language_info": {
   "codemirror_mode": {
    "name": "ipython",
    "version": 3
   },
   "file_extension": ".py",
   "mimetype": "text/x-python",
   "name": "python",
   "nbconvert_exporter": "python",
   "pygments_lexer": "ipython3",
   "version": "3.9.13"
  }
 },
 "nbformat": 4,
 "nbformat_minor": 5
}
