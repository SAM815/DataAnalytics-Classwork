{
 "cells": [
  {
   "cell_type": "markdown",
   "id": "7423d3e2",
   "metadata": {},
   "source": [
    "Question number 1:\n",
    "\n",
    "Object Oriented Programming is based on the concept of objects. Objects are classes, which contain both data and behaviors(methods and functions). OOP focuses on encapsulating data and behavior within objects and the relationship between objects.\n",
    "\n",
    "Procedural Programming, on the other hand, focuses on writing functions that operate on data. The emphasis is on breaking down a problem into a series of steps or procedures and the data is often stored in global variables.\n"
   ]
  },
  {
   "cell_type": "markdown",
   "id": "b021577c",
   "metadata": {},
   "source": [
    "Question number 2: \n",
    "\n",
    "The four advantages of Object Oriented programming over Procedural Proramming are:\n",
    "\n",
    "=>Abstraction of data and behavior into objects makes the code easier to understand and maintain\n",
    "\n",
    "=>Modularity for easier troubleshooting thanks to encapsulation: Implementation details of an object are hidden from the outside   world, making it easier to change the implementation without affecting the rest of the code.\n",
    "\n",
    "=>Reuse of code through inheritance: objects can inherit properties and behaviors from their parent classes, making it easier      to reuse code and reducing the amount of redundant code.\n",
    " \n",
    "=>Flexibility through polymorphism: objects can take on different forms based on the context in which they are used.\n",
    "\n",
    "=>Modularity for easier troubleshooting thanks to encapsulation: Implementation details of an object are hidden from the outside   world, making it easier to change the implementation without affecting the rest of the code.\n",
    "\n"
   ]
  },
  {
   "cell_type": "markdown",
   "id": "e7488139",
   "metadata": {},
   "source": [
    "Question number 3:\n",
    "\n",
    "(i) True\n",
    "(ii) True\n",
    "(iii) True\n",
    "(iv)True\n",
    "(v) True\n",
    "(vi) False "
   ]
  },
  {
   "cell_type": "code",
   "execution_count": 2,
   "id": "a7d292c5",
   "metadata": {},
   "outputs": [
    {
     "name": "stdout",
     "output_type": "stream",
     "text": [
      "Sum of x and y: 30\n",
      "Product of w and MULTIPLIER: 5\n",
      "Difference of a and b: 10\n",
      "Values of x and y: (10, 20)\n"
     ]
    }
   ],
   "source": [
    "class Numbers():\n",
    "    # Class attribute with default value of 1\n",
    "    MULTIPLIER = 1\n",
    "\n",
    "    # Constructor method to initialize instance variables x and y\n",
    "    def __init__(self, x, y):\n",
    "        self.x = x\n",
    "        self.y = y\n",
    "\n",
    "    # Method that returns the sum of x and y\n",
    "    def add(self):\n",
    "        return self.x + self.y\n",
    "\n",
    "    # Method that takes a single number parameter w and returns the product of w and MULTIPLIER\n",
    "    def multiply(self, w):\n",
    "        return w * self.MULTIPLIER\n",
    "\n",
    "    # Method that takes two number parameters a and b and returns a - b\n",
    "    def difference(self, a, b):\n",
    "        return a - b\n",
    "\n",
    "    # Method that returns a tuple containing the values of x and y\n",
    "    def value(self):\n",
    "        return (self.x, self.y)\n",
    "    \n",
    "\n",
    "numbers = Numbers(10, 20)\n",
    "\n",
    "\n",
    "print(\"Sum of x and y:\", numbers.add()) # Output: Sum of x and y: 30\n",
    "\n",
    "\n",
    "print(\"Product of w and MULTIPLIER:\", numbers.multiply(5)) # Output: Product of w and MULTIPLIER: 5\n",
    "\n",
    "\n",
    "print(\"Difference of a and b:\", numbers.difference(30, 20)) # Output: Difference of a and b: 10\n",
    "\n",
    "\n",
    "print(\"Values of x and y:\", numbers.value()) # Output: Values of x and y: (10, 20)\n",
    "\n",
    "\n"
   ]
  },
  {
   "cell_type": "code",
   "execution_count": null,
   "id": "cd537684",
   "metadata": {},
   "outputs": [],
   "source": [
    "    "
   ]
  }
 ],
 "metadata": {
  "kernelspec": {
   "display_name": "Python 3 (ipykernel)",
   "language": "python",
   "name": "python3"
  },
  "language_info": {
   "codemirror_mode": {
    "name": "ipython",
    "version": 3
   },
   "file_extension": ".py",
   "mimetype": "text/x-python",
   "name": "python",
   "nbconvert_exporter": "python",
   "pygments_lexer": "ipython3",
   "version": "3.9.13"
  }
 },
 "nbformat": 4,
 "nbformat_minor": 5
}
